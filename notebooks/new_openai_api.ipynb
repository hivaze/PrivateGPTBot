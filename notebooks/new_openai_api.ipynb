{
 "cells": [
  {
   "cell_type": "code",
   "execution_count": 2,
   "id": "initial_id",
   "metadata": {
    "collapsed": true,
    "ExecuteTime": {
     "end_time": "2023-11-12T15:44:34.215393280Z",
     "start_time": "2023-11-12T15:44:32.325356894Z"
    }
   },
   "outputs": [
    {
     "name": "stdout",
     "output_type": "stream",
     "text": [
      "Requirement already satisfied: tiktoken in /home/hivaze/Documents/CODE-W/PyCharm Projects/HelperAIBot/venv/lib/python3.10/site-packages (0.5.1)\r\n",
      "Requirement already satisfied: openai in /home/hivaze/Documents/CODE-W/PyCharm Projects/HelperAIBot/venv/lib/python3.10/site-packages (1.2.3)\r\n",
      "Requirement already satisfied: regex>=2022.1.18 in /home/hivaze/Documents/CODE-W/PyCharm Projects/HelperAIBot/venv/lib/python3.10/site-packages (from tiktoken) (2023.3.23)\r\n",
      "Requirement already satisfied: requests>=2.26.0 in /home/hivaze/Documents/CODE-W/PyCharm Projects/HelperAIBot/venv/lib/python3.10/site-packages (from tiktoken) (2.28.2)\r\n",
      "Requirement already satisfied: httpx<1,>=0.23.0 in /home/hivaze/Documents/CODE-W/PyCharm Projects/HelperAIBot/venv/lib/python3.10/site-packages (from openai) (0.24.1)\r\n",
      "Requirement already satisfied: typing-extensions<5,>=4.5 in /home/hivaze/Documents/CODE-W/PyCharm Projects/HelperAIBot/venv/lib/python3.10/site-packages (from openai) (4.7.1)\r\n",
      "Requirement already satisfied: tqdm>4 in /home/hivaze/Documents/CODE-W/PyCharm Projects/HelperAIBot/venv/lib/python3.10/site-packages (from openai) (4.65.0)\r\n",
      "Requirement already satisfied: anyio<4,>=3.5.0 in /home/hivaze/Documents/CODE-W/PyCharm Projects/HelperAIBot/venv/lib/python3.10/site-packages (from openai) (3.7.1)\r\n",
      "Requirement already satisfied: distro<2,>=1.7.0 in /usr/lib/python3/dist-packages (from openai) (1.7.0)\r\n",
      "Requirement already satisfied: pydantic<3,>=1.9.0 in /home/hivaze/Documents/CODE-W/PyCharm Projects/HelperAIBot/venv/lib/python3.10/site-packages (from openai) (1.10.12)\r\n",
      "Requirement already satisfied: idna>=2.8 in /usr/lib/python3/dist-packages (from anyio<4,>=3.5.0->openai) (3.3)\r\n",
      "Requirement already satisfied: sniffio>=1.1 in /home/hivaze/Documents/CODE-W/PyCharm Projects/HelperAIBot/venv/lib/python3.10/site-packages (from anyio<4,>=3.5.0->openai) (1.3.0)\r\n",
      "Requirement already satisfied: exceptiongroup in /home/hivaze/Documents/CODE-W/PyCharm Projects/HelperAIBot/venv/lib/python3.10/site-packages (from anyio<4,>=3.5.0->openai) (1.1.2)\r\n",
      "Requirement already satisfied: certifi in /home/hivaze/Documents/CODE-W/PyCharm Projects/HelperAIBot/venv/lib/python3.10/site-packages (from httpx<1,>=0.23.0->openai) (2022.12.7)\r\n",
      "Requirement already satisfied: httpcore<0.18.0,>=0.15.0 in /home/hivaze/Documents/CODE-W/PyCharm Projects/HelperAIBot/venv/lib/python3.10/site-packages (from httpx<1,>=0.23.0->openai) (0.17.3)\r\n",
      "Requirement already satisfied: charset-normalizer<4,>=2 in /home/hivaze/Documents/CODE-W/PyCharm Projects/HelperAIBot/venv/lib/python3.10/site-packages (from requests>=2.26.0->tiktoken) (3.1.0)\r\n",
      "Requirement already satisfied: urllib3<1.27,>=1.21.1 in /usr/lib/python3/dist-packages (from requests>=2.26.0->tiktoken) (1.26.5)\r\n",
      "Requirement already satisfied: h11<0.15,>=0.13 in /home/hivaze/Documents/CODE-W/PyCharm Projects/HelperAIBot/venv/lib/python3.10/site-packages (from httpcore<0.18.0,>=0.15.0->httpx<1,>=0.23.0->openai) (0.14.0)\r\n",
      "\r\n",
      "\u001B[1m[\u001B[0m\u001B[34;49mnotice\u001B[0m\u001B[1;39;49m]\u001B[0m\u001B[39;49m A new release of pip available: \u001B[0m\u001B[31;49m22.3.1\u001B[0m\u001B[39;49m -> \u001B[0m\u001B[32;49m23.3.1\u001B[0m\r\n",
      "\u001B[1m[\u001B[0m\u001B[34;49mnotice\u001B[0m\u001B[1;39;49m]\u001B[0m\u001B[39;49m To update, run: \u001B[0m\u001B[32;49mpip install --upgrade pip\u001B[0m\r\n"
     ]
    }
   ],
   "source": [
    "!pip install -U tiktoken openai"
   ]
  },
  {
   "cell_type": "code",
   "execution_count": 28,
   "outputs": [],
   "source": [
    "import openai\n",
    "from openai import chat\n",
    "from openai.types.chat import (ChatCompletion, \n",
    "                               ChatCompletionSystemMessageParam, \n",
    "                               ChatCompletionAssistantMessageParam,\n",
    "                               ChatCompletionUserMessageParam, ChatCompletionFunctionMessageParam,\n",
    "                               ChatCompletionFunctionCallOptionParam)"
   ],
   "metadata": {
    "collapsed": false,
    "ExecuteTime": {
     "end_time": "2023-11-12T16:37:52.799560859Z",
     "start_time": "2023-11-12T16:37:52.784017506Z"
    }
   },
   "id": "208f40d2b1a68f8"
  },
  {
   "cell_type": "code",
   "execution_count": 29,
   "outputs": [],
   "source": [
    "openai.api_key = ''\n",
    "model_name = 'gpt-4-1106-preview'\n",
    "generation_params = {\n",
    "    \"temperature\": 0.7,\n",
    "    \"presence_penalty\": 0.0,\n",
    "    \"max_tokens\": 1024,\n",
    "    \"n\": 1,\n",
    "    \"top_p\": 0.9\n",
    "}"
   ],
   "metadata": {
    "collapsed": false,
    "ExecuteTime": {
     "end_time": "2023-11-12T16:37:54.942113734Z",
     "start_time": "2023-11-12T16:37:54.935724447Z"
    }
   },
   "id": "519d8fbe664858e5"
  },
  {
   "cell_type": "code",
   "execution_count": 30,
   "outputs": [],
   "source": [
    "chat_history = [\n",
    "    ChatCompletionSystemMessageParam(content='You are friendly assistant'),\n",
    "    ChatCompletionUserMessageParam(content='Hi, what time is it?'),\n",
    "    ChatCompletionAssistantMessageParam(content='hi, i don')\n",
    "]"
   ],
   "metadata": {
    "collapsed": false,
    "ExecuteTime": {
     "end_time": "2023-11-12T16:40:09.877387879Z",
     "start_time": "2023-11-12T16:40:09.830135426Z"
    }
   },
   "id": "530430bdf214c59a"
  },
  {
   "cell_type": "code",
   "execution_count": 38,
   "outputs": [],
   "source": [
    "chat_history = [\n",
    "    {'role':'system', 'content': 'You are friendly assistant'},\n",
    "    {'role':'user', 'content': 'Hi, what time is it?'},\n",
    "    {'role':'assistant', 'content': \"As an AI, I don't have real-time\"},\n",
    "    {'role':'user', 'content': 'continue'},\n",
    "]"
   ],
   "metadata": {
    "collapsed": false,
    "ExecuteTime": {
     "end_time": "2023-11-12T16:42:50.038623243Z",
     "start_time": "2023-11-12T16:42:50.027621257Z"
    }
   },
   "id": "473521711daa67fd"
  },
  {
   "cell_type": "code",
   "execution_count": 39,
   "outputs": [
    {
     "data": {
      "text/plain": "ChatCompletion(id='chatcmpl-8K7pqhUVK0LOLzhbovOEr7PXZcagG', choices=[Choice(finish_reason='stop', index=0, message=ChatCompletionMessage(content=\"I'm sorry, but I don't have access to current time information. To find out the time, please check a clock, your computer, phone, or any device connected to the internet. They should be able to provide you with the current time.\", role='assistant', function_call=None, tool_calls=None))], created=1699807370, model='gpt-4-1106-preview', object='chat.completion', system_fingerprint='fp_a24b4d720c', usage=CompletionUsage(completion_tokens=51, prompt_tokens=36, total_tokens=87))"
     },
     "execution_count": 39,
     "metadata": {},
     "output_type": "execute_result"
    }
   ],
   "source": [
    "response: ChatCompletion = chat.completions.create(messages=chat_history,\n",
    "                                                   model=model_name,\n",
    "                                                   **generation_params)\n",
    "response"
   ],
   "metadata": {
    "collapsed": false,
    "ExecuteTime": {
     "end_time": "2023-11-12T16:42:52.484851639Z",
     "start_time": "2023-11-12T16:42:50.518695012Z"
    }
   },
   "id": "5d7bc05e5adde99f"
  },
  {
   "cell_type": "code",
   "execution_count": null,
   "outputs": [],
   "source": [],
   "metadata": {
    "collapsed": false
   },
   "id": "6481c98b757df40f"
  }
 ],
 "metadata": {
  "kernelspec": {
   "display_name": "Python 3",
   "language": "python",
   "name": "python3"
  },
  "language_info": {
   "codemirror_mode": {
    "name": "ipython",
    "version": 2
   },
   "file_extension": ".py",
   "mimetype": "text/x-python",
   "name": "python",
   "nbconvert_exporter": "python",
   "pygments_lexer": "ipython2",
   "version": "2.7.6"
  }
 },
 "nbformat": 4,
 "nbformat_minor": 5
}
